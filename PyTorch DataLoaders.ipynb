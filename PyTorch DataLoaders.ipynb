{
  "nbformat": 4,
  "nbformat_minor": 0,
  "metadata": {
    "colab": {
      "name": "PyTorch DataLoaders.ipynb",
      "provenance": []
    },
    "kernelspec": {
      "name": "python3",
      "display_name": "Python 3"
    },
    "language_info": {
      "name": "python"
    }
  },
  "cells": [
    {
      "cell_type": "code",
      "execution_count": 6,
      "metadata": {
        "colab": {
          "base_uri": "https://localhost:8080/"
        },
        "id": "UAGL3qnbS4WY",
        "outputId": "736bf2ee-dfea-48db-d85a-6a039fc63e35"
      },
      "outputs": [
        {
          "output_type": "stream",
          "name": "stdout",
          "text": [
            "Files already downloaded and verified\n",
            "Files already downloaded and verified\n"
          ]
        }
      ],
      "source": [
        "from torchvision import datasets\n",
        "from torchvision import transforms\n",
        "from torch.utils.data import DataLoader\n",
        "\n",
        "# Grab the CIFAR10 Dataset\n",
        "dataset_train = datasets.CIFAR10('/data', train=True, download=True, \n",
        "                             transform=transforms.Compose([transforms.ToTensor()]))\n",
        "\n",
        "dataset_test = datasets.CIFAR10('/data', train=False, download=True, \n",
        "                             transform=transforms.Compose([transforms.ToTensor()]))\n",
        "\n",
        "# Create test and traing dataloader with dataset                                                                                    \n",
        "train_loader = DataLoader(dataset_train, batch_size=64, shuffle=True)\n",
        "\n",
        "test_loader = DataLoader(dataset_test, batch_size=64, shuffle=False)"
      ]
    },
    {
      "cell_type": "code",
      "source": [
        "!pip install efficientnet_pytorch\n",
        "from torch import nn\n",
        "from torch import optim\n",
        "from efficientnet_pytorch import EfficientNet\n",
        "model = EfficientNet.from_pretrained('efficientnet-b0', num_classes=10)"
      ],
      "metadata": {
        "colab": {
          "base_uri": "https://localhost:8080/"
        },
        "id": "ozwPH8pQLUyZ",
        "outputId": "51332b82-2432-423c-be8b-81257204b771"
      },
      "execution_count": 7,
      "outputs": [
        {
          "output_type": "stream",
          "name": "stdout",
          "text": [
            "Requirement already satisfied: efficientnet_pytorch in /usr/local/lib/python3.7/dist-packages (0.7.1)\n",
            "Requirement already satisfied: torch in /usr/local/lib/python3.7/dist-packages (from efficientnet_pytorch) (1.11.0+cu113)\n",
            "Requirement already satisfied: typing-extensions in /usr/local/lib/python3.7/dist-packages (from torch->efficientnet_pytorch) (4.2.0)\n",
            "Loaded pretrained weights for efficientnet-b0\n"
          ]
        }
      ]
    },
    {
      "cell_type": "code",
      "source": [
        "# Define criterion and optimizer\n",
        "criterion = nn.CrossEntropyLoss()\n",
        "optimizer = optim.RMSprop(model.parameters(), lr=0.0002)\n",
        "\n",
        "# Training Loop with Loader\n",
        "for x, y in train_loader:\n",
        "  optimizer.zero_grad()\n",
        "  pred = model(x)\n",
        "  loss = criterion(pred,y)\n",
        "  loss.backward()\n",
        "  optimizer.step()\n",
        "  \n",
        "  print (loss.item())"
      ],
      "metadata": {
        "colab": {
          "base_uri": "https://localhost:8080/"
        },
        "id": "m3mwzTyNNiR_",
        "outputId": "2d3e6b2d-8d63-4059-ba2e-60beb4e4ac98"
      },
      "execution_count": null,
      "outputs": [
        {
          "output_type": "stream",
          "name": "stdout",
          "text": [
            "2.404799222946167\n",
            "2.4365077018737793\n",
            "2.3514156341552734\n",
            "2.243605375289917\n",
            "2.232008934020996\n",
            "2.3792760372161865\n",
            "2.119035243988037\n",
            "2.013195753097534\n",
            "2.1941652297973633\n",
            "2.1742024421691895\n",
            "2.0975897312164307\n",
            "1.96351957321167\n",
            "2.0434110164642334\n",
            "1.96281099319458\n",
            "1.9252156019210815\n",
            "1.9148439168930054\n",
            "2.049743890762329\n",
            "1.88338041305542\n",
            "1.8935120105743408\n",
            "1.8854436874389648\n",
            "1.7985714673995972\n",
            "1.9679243564605713\n",
            "1.6929659843444824\n",
            "1.9153807163238525\n",
            "1.7346686124801636\n",
            "1.8098613023757935\n",
            "1.743970513343811\n",
            "1.7414137125015259\n",
            "1.5895220041275024\n",
            "1.782274603843689\n",
            "1.8626240491867065\n",
            "1.6010215282440186\n",
            "1.7779678106307983\n"
          ]
        }
      ]
    },
    {
      "cell_type": "code",
      "source": [
        "# Test model using test_loader\n",
        "totalLoss=0\n",
        "for x, y in test_loader:\n",
        "  pred = model(x)\n",
        "  loss = criterion(pred,y)\n",
        "  totalLoss+=loss.item()"
      ],
      "metadata": {
        "id": "l5rEttrPJ8to"
      },
      "execution_count": null,
      "outputs": []
    },
    {
      "cell_type": "code",
      "source": [
        "totalLoss"
      ],
      "metadata": {
        "id": "DE1jKDfjGBSa"
      },
      "execution_count": null,
      "outputs": []
    }
  ]
}